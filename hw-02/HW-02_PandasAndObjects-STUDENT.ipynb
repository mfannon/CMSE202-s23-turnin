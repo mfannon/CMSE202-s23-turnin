{
 "cells": [
  {
   "cell_type": "markdown",
   "id": "a6fc03da-0d19-4917-b456-4715305be431",
   "metadata": {
    "tags": []
   },
   "source": [
    "# Homework Assignment #2 (Individual)\n",
    "## Pandas Review and Python Classes"
   ]
  },
  {
   "cell_type": "markdown",
   "id": "551a7128-acad-4dd2-a55c-1ec6bcd11780",
   "metadata": {
    "tags": []
   },
   "source": [
    "### <p style=\"text-align: right;\"> &#9989; Mary Fannon.</p>\n",
    "### <p style=\"text-align: right;\"> &#9989; Put your mfannon here.</p>"
   ]
  },
  {
   "cell_type": "markdown",
   "id": "92a96ec6-b7d2-4db0-9320-32393f7a8c5a",
   "metadata": {
    "jp-MarkdownHeadingCollapsed": true,
    "tags": []
   },
   "source": [
    "### Goals for this homework assignment\n",
    "By the end of this assignment, you should be able to:\n",
    "- Write a generalizable class to store data\n",
    "- Write subclasses that inherit general variables and methods from a parent class\n",
    "- Identify key pieces of information that need to be stored as class variables\n",
    "- Write methods that fetch and modify class variables \n",
    "- Write a function that instantiates new objects given some initial set of parameters\n",
    "\n",
    "Work through the following assignment, making sure to follow all of the directions and answer all of the questions.\n",
    "\n",
    "There are **100 points** possible on this assignment. Point values for each part are included in the section headers and question prompts.\n",
    "\n",
    "**This assignment is due in roughly two weeks from now at 11:59 pm on February 17th.** It should be uploaded into the \"Homework Assignments\" submission folder for Homework #2.  Submission instructions can be found at the end of the notebook."
   ]
  },
  {
   "cell_type": "markdown",
   "id": "509920a9-f9f8-45cf-8bc9-c427386a6369",
   "metadata": {},
   "source": [
    "---\n",
    "# Part 0: Add to your Git repository to track your progress on your assignment (5 points)\n",
    "\n",
    "For this assignment, you're going to add it to the `cmse202-s23-turnin` repository you created in class so that you can track your progress on the assignment and preserve the final version that you turn in. In order to do this you need to\n",
    "\n",
    "**&#9989; Do the following**:\n",
    "\n",
    "1. Navigate to your `cmse202-s23-turnin` repository and create a new directory called `hw-02`.\n",
    "2. Move this notebook into that **new directory** in your repository, then **add it and commit it to your repository**.\n",
    "1. Finally, to test that everything is working, \"git push\" the file so that it ends up in your GitHub repository.\n",
    "\n",
    "**Important**: Double check you've added your Professor and your TA as collaborators to your \"turnin\" repository (you should have done this in the previous homework assignment).\n",
    "\n",
    "**Also important**: Make sure that the version of this notebook that you are working on is the same one that you just added to your repository! If you are working on a different copy of the notebook, **none of your changes will be tracked**!\n",
    "\n",
    "If everything went as intended, the file should now show up on your GitHub account in the \"`cmse202-s23-turnin`\" repository inside the `hw-02` directory that you just created.  Periodically, **you'll be asked to commit your changes to the repository and push them to the remote GitHub location**. Of course, you can always commit your changes more often than that, if you wish.  It can be good to get into a habit of committing your changes any time you make a significant modification, or when you stop working on the project for a bit.\n",
    "\n",
    "&#9989; **Do this**: Before you move on, put the command that your instructor should run to clone your repository in the markdown cell below."
   ]
  },
  {
   "cell_type": "markdown",
   "id": "b2153390-6686-464b-83e4-6c97d4115138",
   "metadata": {},
   "source": [
    "git clone \"urlnameofrepo\""
   ]
  },
  {
   "cell_type": "markdown",
   "id": "3a5d7f72",
   "metadata": {},
   "source": [
    "---\n",
    "\n",
    "### &#128721; STOP (3 Points)\n",
    "**Pause to commit your changes to your Git repository!**\n",
    "Take a moment to save your notebook, commit the changes to your Git repository with a meaningful commit message.\n",
    " Done\n",
    "---"
   ]
  },
  {
   "cell_type": "markdown",
   "id": "472e909c-763c-4019-bf12-2b7c23a6abf1",
   "metadata": {
    "tags": []
   },
   "source": [
    "# Part 1: Loading a new dataset and visualize it (22 Points)\n",
    "\n",
    "An important aspect of the recent lessons has been to look at an unknown dataset, use `pandas` to load it into a dataframe, analyze it, and finally visualize it. In the following, we will download a two-part dataset from the web and analyze it. It goes in a familiar direction: Animals. \n",
    "\n",
    "We will look at the following datasets\n",
    "\n",
    "`https://raw.githubusercontent.com/msu-cmse-courses/cmse202-S23-data/main/HW/HW2/zoo.csv` \n",
    "\n",
    "`https://raw.githubusercontent.com/msu-cmse-courses/cmse202-S23-data/main/HW/HW2/class.csv`\n",
    "\n",
    "which [comes from here](https://www.kaggle.com/datasets/uciml/zoo-animal-classification).\n",
    "\n",
    "\n"
   ]
  },
  {
   "cell_type": "markdown",
   "id": "cc162c33",
   "metadata": {},
   "source": [
    "## Part 1.1 Downloading the Data (2 points)\n",
    "\n",
    "Write the commands you used to download the datasets in the Jupyter notebook cell below."
   ]
  },
  {
   "cell_type": "code",
   "execution_count": 3,
   "id": "f508397a",
   "metadata": {},
   "outputs": [],
   "source": [
    "#Write code here\n",
    "#curl -O https://raw.githubusercontent.com/msu-cmse-courses/cmse202-S23-data/main/HW/HW2/zoo.csv\n",
    "#curl -O https://raw.githubusercontent.com/msu-cmse-courses/cmse202-S23-data/main/HW/HW2/class.csv"
   ]
  },
  {
   "cell_type": "markdown",
   "id": "9e024c90",
   "metadata": {},
   "source": [
    "## Part 1.2 Viewing the Dataset using the Command Line (2 points)\n",
    "\n",
    "Open a terminal and use the **commandline** to view the datasets with the tools you learned in class or others that you know. Write the commands you used in the command line below."
   ]
  },
  {
   "cell_type": "code",
   "execution_count": 4,
   "id": "9d5311cf",
   "metadata": {},
   "outputs": [],
   "source": [
    "#Write your commands here\n",
    "#cat zoo.csv\n",
    "#cat class.csv\n",
    "#more zoo.csv\n",
    "#more class.csv\n"
   ]
  },
  {
   "cell_type": "markdown",
   "id": "b020e726",
   "metadata": {},
   "source": [
    "## Part 1.3 Describe the Data (2 points)\n",
    "\n",
    "Look at both datasets (`class.csv`, `zoo.csv`). Describe the contents of both datasets (E.g., the column kinds, what they represent, etc.). Pay close attention to the column `class_type` in the `zoo.csv` dataset and the column `class_number` in the `class.csv`."
   ]
  },
  {
   "cell_type": "markdown",
   "id": "50c00d9d",
   "metadata": {},
   "source": [
    "<font size=6 color=\"#009600\">&#9998;</font> **Zoo.csv** is a dataset contain information about various different animals. It contains information about the animals name, hair, feathers, aquaticness, predator, fines, legs, class type etc. For most of the rows it contains a \"yes\" and \"no\" answer, yes = 1 no = 0. Although the column legs answers with the number of legs of the animals, ex: human = 2 legs, (2) would be in the column. The last column is class type, which sorts the animals into different classes based on their scientific class, ex: bear and antelope are both in class \"1\" because they are both mammals. **Class.csv** is connected to the last column of zoo.csv. This dataset gives more detail about that last column, specifying how many animals are in each class, what the formal class names are, and finally the names of all the animals within the class. There are a total of 7 classes."
   ]
  },
  {
   "cell_type": "markdown",
   "id": "6ab70fb1-2e61-4339-bdc5-9a0c44113324",
   "metadata": {},
   "source": [
    "## Part 1.4: Read in the Datasets with `pandas` (2 points)\n",
    "\n",
    "&#9989; Use pandas to read in the `zoo.csv` and `class.csv` files into DataFrames."
   ]
  },
  {
   "cell_type": "code",
   "execution_count": 8,
   "id": "b3117200-8b2c-4174-9189-06f9c29cea68",
   "metadata": {},
   "outputs": [
    {
     "name": "stdout",
     "output_type": "stream",
     "text": [
      "    animal_name  hair  feathers  eggs  milk  airborne  aquatic  predator  \\\n",
      "0      aardvark     1         0     0     1         0        0         1   \n",
      "1      antelope     1         0     0     1         0        0         0   \n",
      "2          bass     0         0     1     0         0        1         1   \n",
      "3          bear     1         0     0     1         0        0         1   \n",
      "4          boar     1         0     0     1         0        0         1   \n",
      "..          ...   ...       ...   ...   ...       ...      ...       ...   \n",
      "96      wallaby     1         0     0     1         0        0         0   \n",
      "97         wasp     1         0     1     0         1        0         0   \n",
      "98         wolf     1         0     0     1         0        0         1   \n",
      "99         worm     0         0     1     0         0        0         0   \n",
      "100        wren     0         1     1     0         1        0         0   \n",
      "\n",
      "     toothed  backbone  breathes  venomous  fins  legs  tail  domestic  \\\n",
      "0          1         1         1         0     0     4     0         0   \n",
      "1          1         1         1         0     0     4     1         0   \n",
      "2          1         1         0         0     1     0     1         0   \n",
      "3          1         1         1         0     0     4     0         0   \n",
      "4          1         1         1         0     0     4     1         0   \n",
      "..       ...       ...       ...       ...   ...   ...   ...       ...   \n",
      "96         1         1         1         0     0     2     1         0   \n",
      "97         0         0         1         1     0     6     0         0   \n",
      "98         1         1         1         0     0     4     1         0   \n",
      "99         0         0         1         0     0     0     0         0   \n",
      "100        0         1         1         0     0     2     1         0   \n",
      "\n",
      "     catsize  class_type  \n",
      "0          1           1  \n",
      "1          1           1  \n",
      "2          0           4  \n",
      "3          1           1  \n",
      "4          1           1  \n",
      "..       ...         ...  \n",
      "96         1           1  \n",
      "97         0           6  \n",
      "98         1           1  \n",
      "99         0           7  \n",
      "100        0           2  \n",
      "\n",
      "[101 rows x 18 columns]\n"
     ]
    }
   ],
   "source": [
    "#Write code here\n",
    "import pandas as pd\n",
    "Class = pd.read_csv(\"class.csv\")\n",
    "zoo = pd.read_csv(\"zoo.csv\")\n",
    "#print(Class)\n",
    "print(zoo)"
   ]
  },
  {
   "cell_type": "markdown",
   "id": "a6f7f4cb",
   "metadata": {},
   "source": [
    "## Part 1.5 Counting Classes (2 Points). \n",
    "\n",
    "Look back in the PCA/ICA and see how we used `groupby` to find the number of Iris species and determine their statistical properties. Use the same methodology on the `zoo` DataFrame to find out how many of each there are (**not how many classes but e.g. how many mammals, fish, ...**). Use the `class.csv` to check your answer. "
   ]
  },
  {
   "cell_type": "code",
   "execution_count": 21,
   "id": "7ed5b8fe",
   "metadata": {},
   "outputs": [],
   "source": [
    "#print(zoo.groupby('class_type').size())"
   ]
  },
  {
   "cell_type": "markdown",
   "id": "7589ad90-4098-4e6f-9b74-bd8ac46c9031",
   "metadata": {},
   "source": [
    "<font size=6 color=\"#009600\">&#9998;</font> For **Class 1**; 41 mammals, **Class 2**; 20 birds, **Class 3**; 5 reptiles, **Class 4**; 13 fish, **Class 5**; 4 amphibian, **Class 6**; 8 bugs, **Class 7**; 10 invertebrates."
   ]
  },
  {
   "cell_type": "markdown",
   "id": "51aa0418-9da6-445b-bc97-1e3e19365ce6",
   "metadata": {
    "tags": []
   },
   "source": [
    "## 1.6 Visualizing the Data (10 points)\n",
    "\n",
    "&#9989; Similar to the iris dataset, where we classified iris flowers into specific species, we want to classify animal properties into animal classes. Let's say we want to tell fish and mammals apart. Make two scatter plots to cleanly separate the classes using attributes from your `zoo` dataset. Use different colors and different symbols for fish and mammals."
   ]
  },
  {
   "cell_type": "code",
   "execution_count": 30,
   "id": "0dca0060-6925-409e-948f-619544bd7b27",
   "metadata": {},
   "outputs": [
    {
     "data": {
      "image/png": "[encoded data removed]",
      "text/plain": [
       "<Figure size 432x288 with 1 Axes>"
      ]
     },
     "metadata": {
      "needs_background": "light"
     },
     "output_type": "display_data"
    },
    {
     "data": {
      "image/png": "[encoded data removed]",
      "text/plain": [
       "<Figure size 432x288 with 1 Axes>"
      ]
     },
     "metadata": {
      "needs_background": "light"
     },
     "output_type": "display_data"
    }
   ],
   "source": [
    "#Write your code here\n",
    "import matplotlib.pyplot as plt\n",
    "mammals = zoo[zoo[\"eggs\"] == 0]\n",
    "fish = zoo[zoo[\"breathes\"] == 0 ]\n",
    "plt.scatter(mammals[\"eggs\"], mammals[\"breathes\"], color = \"pink\", marker = \"*\", label = \"Mammals\")\n",
    "plt.scatter(fish[\"eggs\"] ,fish[\"breathes\"], color = \"blue\", marker = \"s\", label = \"Fish\")\n",
    "plt.xlabel(\"Eggs\")\n",
    "plt.ylabel(\"Breathes\")\n",
    "plt.title(\"Eggs vs Breathes\")\n",
    "plt.legend()\n",
    "plt.show()\n",
    "\n",
    "mammalss = zoo[zoo[\"milk\"] == 1]\n",
    "fishh = zoo[zoo[\"fins\"] == 1 ]\n",
    "plt.scatter(mammalss[\"milk\"], mammalss[\"fins\"], color = \"pink\", marker = \"*\", label = \"Mammals\")\n",
    "plt.scatter(fishh[\"milk\"] ,fishh[\"fins\"], color = \"blue\", marker = \"s\", label = \"Fish\")\n",
    "plt.xlabel(\"Milk\")\n",
    "plt.ylabel(\"Fins\")\n",
    "plt.title(\"Milk vs Fins\")\n",
    "plt.legend()\n",
    "plt.show()"
   ]
  },
  {
   "cell_type": "markdown",
   "id": "85771b78",
   "metadata": {},
   "source": [
    "## 1.7 Reflecting on the Different Types of Data (2 points)\n",
    "\n",
    "Look at the scatter plots you made to classify fish and mammals in the previous part and compare it to the scatter plots we made to separate the iris dataset. What differences do you notice?"
   ]
  },
  {
   "cell_type": "markdown",
   "id": "179370da",
   "metadata": {},
   "source": [
    "<font size=6 color=\"#009600\">&#9998;</font> *This is a test"
   ]
  },
  {
   "cell_type": "markdown",
   "id": "ae5da633",
   "metadata": {},
   "source": [
    "---\n",
    "### &#128721; STOP (3 Point)\n",
    "**Pause to commit your changes to your Git repository!**\n",
    "\n",
    "Take a moment to save your notebook, commit the changes to your Git repository with a meaningful commit message.\n",
    "\n",
    "---"
   ]
  },
  {
   "cell_type": "markdown",
   "id": "57909bf7",
   "metadata": {},
   "source": [
    "# Part 2 Extending classes (41 Points)\n",
    "\n",
    "For the next set of question, We will work once more with the `Animal` and `Zoo` class. Below is a version of the `Animal` class that we will build off of.\n",
    "\n"
   ]
  },
  {
   "cell_type": "code",
   "execution_count": null,
   "id": "bd11737f",
   "metadata": {},
   "outputs": [],
   "source": [
    "#Example class to build off of\n",
    "\n",
    "class Animal(object):\n",
    "    \"\"\"\n",
    "    This is an Animal class, used to store information about animals in the Zoo.\n",
    "    \"\"\"\n",
    "\n",
    "    def __init__(self, kind, required_area=0):\n",
    "        \"\"\" Initialize the Animal object.\n",
    "        Inputs are\n",
    "        kind: the type of animal (string)\n",
    "        required_area: square meters (int)\n",
    "        \"\"\"\n",
    "        self.kind = kind\n",
    "        self.required_area = required_area\n",
    "\n",
    "\n",
    "    def set_required_area(self, area):\n",
    "        \"\"\" Set area required for a single animal. \"\"\"\n",
    "        self.required_area = area\n",
    "\n",
    "    def set_kind(self, kind):\n",
    "        \"\"\" Set the kind of the animal \"\"\"\n",
    "        self.kind = kind\n",
    "\n",
    "    def get_kind(self):\n",
    "        \"\"\" Return animal's kind. \"\"\"\n",
    "        return self.kind\n",
    "\n",
    "    def get_required_area(self):\n",
    "        \"\"\" Return area required for a single animal. \"\"\"\n",
    "        return self.required_area"
   ]
  },
  {
   "cell_type": "markdown",
   "id": "f259f1c0",
   "metadata": {},
   "source": [
    "## Part 2.1 Extending the `Animal` Class (18 Points)\n",
    "\n",
    "### Part 2.1.1 Building a Test Animal (3 Points)\n",
    "\n",
    "Before we start making changes to our classes, let's start by creating some test/example instances of them. In the cell below, pick your favorite animal and a fun name and create a new `Animal` object.\n"
   ]
  },
  {
   "cell_type": "code",
   "execution_count": null,
   "id": "618896a0",
   "metadata": {},
   "outputs": [],
   "source": [
    "#Write your code here"
   ]
  },
  {
   "cell_type": "markdown",
   "id": "a6efa1b1",
   "metadata": {},
   "source": [
    "### Part 2.1.2 Adding in Additional Information (5 Points)\n",
    "\n",
    "\n",
    "Before we can begin building our zoo we need more information about the needs of our animals. Specifically, we need to think about the different habitats the animals live in. We now have that information from your dataframe. For our zoo, we will be building aquatic habitats, grassland habitats, and aviaries. Ultimately, we're going to need to know how big the different habitats will need to be.\n",
    "\n",
    "&#9989; Extend the `Animal` class given above to store information to incorporate habitat information in the cell below."
   ]
  },
  {
   "cell_type": "code",
   "execution_count": null,
   "id": "8f097f6a",
   "metadata": {},
   "outputs": [],
   "source": [
    "#Write out your new Animal class here"
   ]
  },
  {
   "cell_type": "markdown",
   "id": "655471f0",
   "metadata": {},
   "source": [
    "### Part 2.1.3 Calculating Required Area (10 Points)\n",
    "\n",
    "Now that we have our habitat information, we can use that to calculate the required area. First, we're going to assume that animals living in different habitats require the following amount of area:\n",
    "\n",
    " * aquatic : 10 $m^2$ per animal\n",
    " * aviary : 20 $m^2$ per animal\n",
    " * grassland : 30 $m^2$ per animal\n",
    "\n",
    "\n",
    "\n",
    "&#9989; In the `__init__` method, write a piece of code that uses the information above to determine the area required for the animal and set the `required_area` attribute."
   ]
  },
  {
   "cell_type": "code",
   "execution_count": null,
   "id": "21a47a7f",
   "metadata": {},
   "outputs": [],
   "source": [
    "#Write out your new Animal class here"
   ]
  },
  {
   "cell_type": "markdown",
   "id": "9b7fe0e5",
   "metadata": {},
   "source": [
    "## Part 2.2: Extending the `Zoo` Class (23 Points)\n",
    "\n",
    "Now we want to extend our `Zoo` class, so we can determine the total amount of area we'll need for each habitat. We'll do this by building off of our original `zoo` class given below."
   ]
  },
  {
   "cell_type": "code",
   "execution_count": null,
   "id": "a2fd9251-92e6-4746-9d3f-0f4573e5ee72",
   "metadata": {},
   "outputs": [],
   "source": [
    "#Example class to build off of\n",
    "\n",
    "class Zoo:\n",
    "    \"\"\"\n",
    "        Class for Zoo object.\n",
    "    \"\"\"\n",
    "    def __init__(self, name):\n",
    "        \"\"\" Initialize the Animal object.\n",
    "        Inputs are\n",
    "        name: name of the zoo (string)\n",
    "        animals: collection (dictionary) of animal objects\n",
    "        \"\"\"\n",
    "        self.name = name\n",
    "        self.animals = {}\n",
    "\n",
    "    def add_animal(self, animal):\n",
    "        \"\"\" Adds an animal to the zoo. \"\"\"\n",
    "        # we use animal's name as a key in the dictionary\n",
    "        kind = animal.get_kind()\n",
    "        self.animals[kind] = animal\n",
    "\n",
    "    def add(self, animal):\n",
    "        \"\"\" Shorter name of function to add animals to the Zoo. \"\"\"\n",
    "        self.add_animal(animal)\n",
    "\n",
    "    def get_animals(self):\n",
    "        \"\"\" Return all animals in the zoo.\"\"\"\n",
    "        return self.animals\n",
    "\n",
    "    def remove(self, name):\n",
    "        \"\"\" Remove animal from the Zoo for given name. If the name does not exist, error is printed. \"\"\"\n",
    "        if name in self.animals:\n",
    "            # yes, animal with given name is in the Zoo\n",
    "            del self.animals[name]\n",
    "        else:\n",
    "            print(\"Animal with given name is not in\", self.name, \"Zoo.\")\n",
    "\n",
    "    def get_animal_kinds(self, sort=False):\n",
    "        \"\"\" Return animal kinds in the Zoo. Return sorted kinds if parameters sorted==True\"\"\"\n",
    "        kinds = []\n",
    "        \n",
    "        for key in self.animals.keys():\n",
    "            # get animal kinds and store them into list\n",
    "            kinds.append(self.animals[key].get_kind())\n",
    "\n",
    "        if sort == True:\n",
    "            # we have to return sorted kinds; so sort the kinds\n",
    "            kinds = sorted(kinds)\n",
    "\n",
    "        return kinds\n",
    "\n",
    "    def number_animals(self):\n",
    "        \"\"\" Return number of animals in the Zoo.\"\"\"\n",
    "        return len(self.animals)\n",
    "\n",
    "    def total_area(self):\n",
    "        \"\"\" Return the total Zoo area to host all animals defined in the object. \"\"\"\n",
    "        area = 0\n",
    "\n",
    "        for key in self.animals:\n",
    "            # get area for all animals in the zoo\n",
    "            area += self.animals[key].get_required_area()\n",
    "\n",
    "        return area\n"
   ]
  },
  {
   "cell_type": "markdown",
   "id": "d8b80d82",
   "metadata": {},
   "source": [
    "\n",
    "### 2.2.1 Building an Example `Zoo` (3 Points)\n",
    "\n",
    "\n",
    "\n",
    "&#9989; To start, build an example `zoo` object. Add the example `animal` object you made in 2.1.1 to the zoo."
   ]
  },
  {
   "cell_type": "code",
   "execution_count": null,
   "id": "43484736",
   "metadata": {},
   "outputs": [],
   "source": [
    "#Write your code for constructing an example zoo here"
   ]
  },
  {
   "cell_type": "markdown",
   "id": "842c4128",
   "metadata": {},
   "source": [
    "### 2.2.2 Getting Total Required Area (15 Points)\n",
    "\n",
    "&#9989; Extend your Zoo class with functionality to calculate the required areas for each type of habitat. There are several ways to do this. Here are the requirements:\n",
    "\n",
    "1. You should be able to (easily) access the total required area for each habitat at any time using the `Zoo` object. (This can be best achieved by using class attributes.)\n",
    "2. You should be able to easily recalculate the total required area for each habitat if/when new animals are added to the zoo.\n",
    "\n",
    "Finally, you should be able to print off the required area for each habitat. E.g., \n",
    "\n",
    "- Grassland: 1200 Square Meters\n",
    "- Aquatic: 600 Square Meters\n",
    "- Aviary: 300 Square Meters\n",
    "\n",
    "You can decide whether to do this inside of the `Zoo` class or with another piece of code. "
   ]
  },
  {
   "cell_type": "code",
   "execution_count": null,
   "id": "05391492",
   "metadata": {},
   "outputs": [],
   "source": [
    "#Write out your new Zoo class here"
   ]
  },
  {
   "cell_type": "markdown",
   "id": "2b80858d",
   "metadata": {},
   "source": [
    "### 2.2.3 Testing your New `Zoo` class (5 Points)\n",
    "\n",
    "&#9989; Test out your new `Zoo` class by constructing three new `Animal` objects--one for each habitat--and then adding them to a new `Zoo` object. Test out the two methods you added in the previous part to ensure that they work correctly."
   ]
  },
  {
   "cell_type": "code",
   "execution_count": 23,
   "id": "9d3b477f",
   "metadata": {},
   "outputs": [],
   "source": [
    "#Write your code for testing the Zoo class here"
   ]
  },
  {
   "cell_type": "markdown",
   "id": "43baf4cf",
   "metadata": {},
   "source": [
    "---\n",
    "### &#128721; STOP (3 Point)\n",
    "**Pause to commit your changes to your Git repository!**\n",
    "\n",
    "Take a moment to save your notebook, commit the changes to your Git repository. Please make a meaningful commit message\n",
    "\n",
    "---"
   ]
  },
  {
   "cell_type": "markdown",
   "id": "56173ada",
   "metadata": {},
   "source": [
    "# Part 3: Filling your Zoo (20 Points)\n",
    "\n",
    "We now have a working zoo that understands how habitats work. We want to fill it with the animals from `zoo.csv` in the `pandas` DataFrame. First we are learning how to loop over individual rows of a `pandas` DataFrame and then we are adding this to the zoo. "
   ]
  },
  {
   "cell_type": "markdown",
   "id": "6833a582",
   "metadata": {},
   "source": [
    "## Part 3.1 Sorting Animals (5 points)\n",
    "\n",
    "&#9989; We are demonstrating below how we loop over individual rows of a `pandas` `DataFrame` and access the properties of an animal for each row. I'm keeping in mind that the grassland should not have airborne creatures. Please add an if-statement for animals going to the aquatic habitat and the aviary habitat. "
   ]
  },
  {
   "cell_type": "code",
   "execution_count": null,
   "id": "230b55cc",
   "metadata": {},
   "outputs": [],
   "source": [
    "#Extend the following code for all habitat types\n",
    "\n",
    "# to limit the output you can write zoo_df.sample(20).iterrows() to give you a sample of 20 animals\n",
    "for i, animal_row in zoo_df.iterrows():\n",
    "    if (animal_row.legs > 0) and (animal_row.airborne == 0) and (animal_row.aquatic == 0):\n",
    "        print(\"{0} needs to go to the grassland habitat \".format(animal_row['animal_name']))"
   ]
  },
  {
   "cell_type": "markdown",
   "id": "e66b1d0c",
   "metadata": {},
   "source": [
    "## Part 3.2 Making your Zoo (10 points)\n",
    "\n",
    "&#9989; Now that we have learned how to loop over a dataframe, we want to add all the animals to the zoo. Use the for-loop and instantiate an animal object (using the new and improved animal object) and add it to the zoo. "
   ]
  },
  {
   "cell_type": "code",
   "execution_count": null,
   "id": "6f199979",
   "metadata": {},
   "outputs": [],
   "source": [
    "#Write your code for constructing a complete zoo here"
   ]
  },
  {
   "cell_type": "markdown",
   "id": "8aa97cac",
   "metadata": {},
   "source": [
    "## 3.3 Showing off your Zoo (5 Points)\n",
    "\n",
    "&#9989; Now that you have built your `Zoo` object with all of its `Animal`s, it's time to show it off. In the cell below, calculate and print the total area required for each habitat. "
   ]
  },
  {
   "cell_type": "code",
   "execution_count": null,
   "id": "47a8495f",
   "metadata": {},
   "outputs": [],
   "source": [
    "#Write your code for showing off your zoo object"
   ]
  },
  {
   "cell_type": "markdown",
   "id": "8a5439a2",
   "metadata": {},
   "source": [
    "---\n",
    "\n",
    "### &#128721; STOP (3 Point)\n",
    "**Pause to commit your changes to your Git repository!**\n",
    "\n",
    "Take a moment to save your notebook, commit the changes to your Git repository with a meaningful commit message.\n",
    "\n",
    "---"
   ]
  },
  {
   "cell_type": "markdown",
   "id": "8f271f51-e4d3-4481-916a-3965d9c96f33",
   "metadata": {
    "tags": []
   },
   "source": [
    "### Congratulations, you're done!"
   ]
  },
  {
   "cell_type": "markdown",
   "id": "b2f3c3d8-8f71-4b0e-9d7c-d52e66bf24cc",
   "metadata": {},
   "source": [
    "&#169; Copyright 2022,  Department of Computational Mathematics, Science and Engineering at Michigan State University"
   ]
  }
 ],
 "metadata": {
  "kernelspec": {
   "display_name": "Python 3",
   "language": "python",
   "name": "python3"
  },
  "language_info": {
   "codemirror_mode": {
    "name": "ipython",
    "version": 3
   },
   "file_extension": ".py",
   "mimetype": "text/x-python",
   "name": "python",
   "nbconvert_exporter": "python",
   "pygments_lexer": "ipython3",
   "version": "3.8.8"
  },
  "vscode": {
   "interpreter": {
    "hash": "cf0c681cb49c9db9dd0920756d994a7efb6a444278d5ca447e660767d56738cf"
   }
  },
  "widgets": {
   "application/vnd.jupyter.widget-state+json": {
    "state": {},
    "version_major": 2,
    "version_minor": 0
   }
  }
 },
 "nbformat": 4,
 "nbformat_minor": 5
}
